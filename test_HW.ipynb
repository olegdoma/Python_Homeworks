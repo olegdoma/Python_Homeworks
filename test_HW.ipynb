{
 "cells": [
  {
   "cell_type": "code",
   "execution_count": 1,
   "metadata": {},
   "outputs": [],
   "source": [
    "L = [[[1, 2, 3, 4, 5, 6, 7, 8, 9, 10], [11, 12, 13, 14, 15, 16, 17, 18, 19, 20]], \n",
    "    [[21, 22, 23, 24, 25, 26, 27, 28, 29, 30], [31, 32, 33, 34, 35, 36, 37, 38, 39, 40]], \n",
    "    [[41, 42, 43, 44, 45], [46, [47, 48], 49, 50], [51, 52, 53, 54, 55], [56, 57, 58, 59, 60]], \n",
    "    [61, 62, 63, [64, 65, 66, 67, 68, 69, 70, 71], 72, 73, 74, [75, [76, 77, 78], 79], 80], \n",
    "    [81, 82, 83, 84, 85, 86, 87, 88, 89, 90, 91, 92, 93, 94, 95, 96, 97, 98, 99, 100]]"
   ]
  },
  {
   "cell_type": "code",
   "execution_count": 3,
   "metadata": {},
   "outputs": [
    {
     "data": {
      "text/plain": [
       "7"
      ]
     },
     "execution_count": 3,
     "metadata": {},
     "output_type": "execute_result"
    }
   ],
   "source": [
    "L[0][0][6]"
   ]
  },
  {
   "cell_type": "code",
   "execution_count": 4,
   "metadata": {},
   "outputs": [
    {
     "data": {
      "text/plain": [
       "49"
      ]
     },
     "execution_count": 4,
     "metadata": {},
     "output_type": "execute_result"
    }
   ],
   "source": [
    "L[2][1][2]"
   ]
  },
  {
   "cell_type": "code",
   "execution_count": 6,
   "metadata": {},
   "outputs": [
    {
     "data": {
      "text/plain": [
       "78"
      ]
     },
     "execution_count": 6,
     "metadata": {},
     "output_type": "execute_result"
    }
   ],
   "source": [
    "L[3][7][1][2]"
   ]
  },
  {
   "cell_type": "code",
   "execution_count": 7,
   "metadata": {},
   "outputs": [
    {
     "data": {
      "text/plain": [
       "99"
      ]
     },
     "execution_count": 7,
     "metadata": {},
     "output_type": "execute_result"
    }
   ],
   "source": [
    "L[4][-2]"
   ]
  },
  {
   "cell_type": "code",
   "execution_count": 21,
   "metadata": {},
   "outputs": [
    {
     "name": "stdout",
     "output_type": "stream",
     "text": [
      "[74]\n"
     ]
    }
   ],
   "source": [
    "M = L[3]\n",
    "print(M[6:7])"
   ]
  },
  {
   "cell_type": "code",
   "execution_count": 22,
   "metadata": {},
   "outputs": [
    {
     "name": "stdout",
     "output_type": "stream",
     "text": [
      "[[47, 48]]\n"
     ]
    }
   ],
   "source": [
    "M = L[2]\n",
    "N = M[1]\n",
    "print(N[1:2])"
   ]
  },
  {
   "cell_type": "code",
   "execution_count": 23,
   "metadata": {},
   "outputs": [
    {
     "name": "stdout",
     "output_type": "stream",
     "text": [
      "[77, 78]\n"
     ]
    }
   ],
   "source": [
    "M = L[3]\n",
    "N = M[7]\n",
    "O = N[1]\n",
    "print(O[1:])"
   ]
  },
  {
   "cell_type": "code",
   "execution_count": 24,
   "metadata": {},
   "outputs": [
    {
     "data": {
      "text/plain": [
       "[0, 1, 2, 3, 4]"
      ]
     },
     "execution_count": 24,
     "metadata": {},
     "output_type": "execute_result"
    }
   ],
   "source": [
    "list(range(5))"
   ]
  },
  {
   "cell_type": "code",
   "execution_count": 25,
   "metadata": {},
   "outputs": [
    {
     "data": {
      "text/plain": [
       "[16, 12, 8, 4]"
      ]
     },
     "execution_count": 25,
     "metadata": {},
     "output_type": "execute_result"
    }
   ],
   "source": [
    "list(range(16, 3, -4))"
   ]
  },
  {
   "cell_type": "code",
   "execution_count": 63,
   "metadata": {},
   "outputs": [
    {
     "name": "stdout",
     "output_type": "stream",
     "text": [
      "Введите число5000\n",
      "01 : 23 : 20\n"
     ]
    }
   ],
   "source": [
    "seconds = int (input(\"Введите число\"))\n",
    "\n",
    "hours = seconds // 3600\n",
    "seconds = seconds % 3600\n",
    "minutes = seconds // 60\n",
    "seconds = seconds % 60\n",
    "print(\"{:02d}\".format(hours), \":\",\"{:02d}\".format(minutes), \":\",\"{:02d}\".format(seconds),)\n"
   ]
  },
  {
   "cell_type": "code",
   "execution_count": 96,
   "metadata": {},
   "outputs": [
    {
     "name": "stdout",
     "output_type": "stream",
     "text": [
      "11111\n",
      "5\n"
     ]
    }
   ],
   "source": [
    "num = int(input())\n",
    "\n",
    "a = num // 10000\n",
    "b = (num % 10000) // 1000\n",
    "c = (num % 1000) // 100\n",
    "d = (num % 100) // 10\n",
    "e = (num % 10)\n",
    "print(a+b+c+d+e)\n"
   ]
  },
  {
   "cell_type": "code",
   "execution_count": 100,
   "metadata": {},
   "outputs": [
    {
     "name": "stdout",
     "output_type": "stream",
     "text": [
      "1234\n",
      "3412\n"
     ]
    }
   ],
   "source": [
    "num = int(input())\n",
    "\n",
    "a = num // 1000\n",
    "b = (num % 1000) // 100\n",
    "d = (num % 100) // 10\n",
    "e = (num % 10)\n",
    "num2 = (d*1000) + (e*100) + (a*10) + b\n",
    "print(num2)"
   ]
  },
  {
   "cell_type": "code",
   "execution_count": 101,
   "metadata": {},
   "outputs": [
    {
     "name": "stdout",
     "output_type": "stream",
     "text": [
      "1\n"
     ]
    }
   ],
   "source": [
    "print(120//105)"
   ]
  },
  {
   "cell_type": "code",
   "execution_count": 103,
   "metadata": {},
   "outputs": [
    {
     "name": "stdout",
     "output_type": "stream",
     "text": [
      "105\n",
      "120\n",
      "2\n"
     ]
    }
   ],
   "source": [
    "from math import *\n",
    "D = int(input())\n",
    "P = int(input())\n",
    "print(ceil(P/D))"
   ]
  },
  {
   "cell_type": "code",
   "execution_count": 124,
   "metadata": {},
   "outputs": [
    {
     "name": "stdout",
     "output_type": "stream",
     "text": [
      "40 02\n",
      "5\n",
      "200 руб. 10 коп.\n"
     ]
    }
   ],
   "source": [
    "R,K = map(int, input().split())\n",
    "N = int(input())\n",
    "R = R * 100\n",
    "price = R + K\n",
    "summ = N * price\n",
    "R = summ // 100\n",
    "K = summ % 100\n",
    "print(R,\"руб.\", \"{:02d}\".format(K), \"коп.\")\n",
    "\n"
   ]
  },
  {
   "cell_type": "code",
   "execution_count": 125,
   "metadata": {},
   "outputs": [
    {
     "name": "stdout",
     "output_type": "stream",
     "text": [
      "Иван\n",
      "Иванович\n",
      "Иванов\n",
      "Иванов Иван Иванович\n"
     ]
    }
   ],
   "source": [
    "N = str(input())\n",
    "MN = str(input())\n",
    "S = str(input())\n",
    "print(S,N,MN)"
   ]
  },
  {
   "cell_type": "code",
   "execution_count": 127,
   "metadata": {},
   "outputs": [
    {
     "name": "stdout",
     "output_type": "stream",
     "text": [
      "салат Цезарь\n",
      "оливье\n",
      "['белое вино', 'оливье', 'паста Карбонара', 'чизкейк', 'шоколадный сорбет']\n"
     ]
    }
   ],
   "source": [
    "order = ['белое вино', 'салат Цезарь', 'паста Карбонара', 'чизкейк', 'шоколадный сорбет']\n",
    "old_name = order.index(input())\n",
    "order[old_name] = input()\n",
    "print(order)"
   ]
  },
  {
   "cell_type": "code",
   "execution_count": 139,
   "metadata": {},
   "outputs": [
    {
     "data": {
      "text/plain": [
       "'помыть машину'"
      ]
     },
     "execution_count": 139,
     "metadata": {},
     "output_type": "execute_result"
    }
   ],
   "source": [
    "diary = {'понедельник': {\n",
    "                          'утро': ['погулять с собакой'],\n",
    "                          'день': [],\n",
    "                          'вечер': ['погулять с собакой']\n",
    "                                      },\n",
    "        'вторник': {\n",
    "                          'утро': ['погулять с собакой'],\n",
    "                          'день': [],\n",
    "                          'вечер': ['погулять с собакой']\n",
    "                                      },\n",
    "        'среда': {\n",
    "                          'утро': ['погулять с собакой'],\n",
    "                          'день': [],\n",
    "                          'вечер': ['погулять с собакой']\n",
    "                                      },\n",
    "        'четверг': {\n",
    "                          'утро': ['погулять с собакой'],\n",
    "                          'день': [],\n",
    "                          'вечер': ['погулять с собакой']\n",
    "                                      },\n",
    "        'пятница': {\n",
    "                          'утро': ['заехать в шиномонтаж', 'помыть машину'],\n",
    "                          'день': [],\n",
    "                          'вечер': ['поход в театр',  'ужин в кафе']\n",
    "                                      },\n",
    "        'суббота': {\n",
    "                          'утро': [],\n",
    "                          'день': [],\n",
    "                          'вечер': []\n",
    "                                      },\n",
    "        'воскресенье': {\n",
    "                          'утро': [],\n",
    "                          'день': [],\n",
    "                          'вечер': []\n",
    "                                      }}\n",
    "\n",
    "del diary['суббота']\n",
    "del diary['воскресенье']\n",
    "diary['(суббота, воскресенье)'] = 'посадить цветы на даче'\n",
    "diary['вторник']['утро']= 'поход к зубному'\n",
    "diary['пятница']['вечер'][0] = 'поход в кино'\n",
    "del diary['четверг']['утро'][0]\n",
    "del diary['четверг']['вечер'][0]\n",
    "diary['пятница']['утро'][1]\n"
   ]
  },
  {
   "cell_type": "code",
   "execution_count": 140,
   "metadata": {},
   "outputs": [
    {
     "data": {
      "text/plain": [
       "0"
      ]
     },
     "execution_count": 140,
     "metadata": {},
     "output_type": "execute_result"
    }
   ],
   "source": [
    "100 // 109\n"
   ]
  },
  {
   "cell_type": "code",
   "execution_count": 142,
   "metadata": {},
   "outputs": [
    {
     "data": {
      "text/plain": [
       "11"
      ]
     },
     "execution_count": 142,
     "metadata": {},
     "output_type": "execute_result"
    }
   ],
   "source": [
    "120% 109"
   ]
  },
  {
   "cell_type": "code",
   "execution_count": null,
   "metadata": {},
   "outputs": [],
   "source": [
    "V = int(input ())\n",
    "T = int(input ())\n",
    "\n",
    "\n",
    "print(V*T % 109)\n"
   ]
  },
  {
   "cell_type": "code",
   "execution_count": 21,
   "metadata": {},
   "outputs": [
    {
     "name": "stdout",
     "output_type": "stream",
     "text": [
      "Иван Иванович Иванов\n",
      "Иванов Иван Иванович\n"
     ]
    }
   ],
   "source": [
    "S = str(input())\n",
    "Name = S[:S.rfind(' ')]\n",
    "Surname = S[S.rfind(' ')+1:]\n",
    "print(Surname + \" \" + Name)\n"
   ]
  },
  {
   "cell_type": "code",
   "execution_count": 29,
   "metadata": {},
   "outputs": [
    {
     "data": {
      "text/plain": [
       "{'понедельник': {'утро': ['погулять с собакой'],\n",
       "  'день': [],\n",
       "  'вечер': ['погулять с собакой']},\n",
       " 'вторник': {'утро': ['погулять с собакой'],\n",
       "  'день': [],\n",
       "  'вечер': ['погулять с собакой']},\n",
       " 'среда': {'утро': ['погулять с собакой'],\n",
       "  'день': [],\n",
       "  'вечер': ['погулять с собакой']},\n",
       " 'четверг': {'утро': ['погулять с собакой'],\n",
       "  'день': [],\n",
       "  'вечер': ['погулять с собакой']},\n",
       " 'пятница': {'утро': ['заехать в шиномонтаж', 'помыть машину'],\n",
       "  'день': [],\n",
       "  'вечер': ['поход в театр', 'ужин в кафе']},\n",
       " '(суббота, воскресенье)': 'посадить цветы на даче'}"
      ]
     },
     "execution_count": 29,
     "metadata": {},
     "output_type": "execute_result"
    }
   ],
   "source": [
    "diary = {'понедельник': {\n",
    "                          'утро': ['погулять с собакой'],\n",
    "                          'день': [],\n",
    "                          'вечер': ['погулять с собакой']\n",
    "                                      },\n",
    "        'вторник': {\n",
    "                          'утро': ['погулять с собакой'],\n",
    "                          'день': [],\n",
    "                          'вечер': ['погулять с собакой']\n",
    "                                      },\n",
    "        'среда': {\n",
    "                          'утро': ['погулять с собакой'],\n",
    "                          'день': [],\n",
    "                          'вечер': ['погулять с собакой']\n",
    "                                      },\n",
    "        'четверг': {\n",
    "                          'утро': ['погулять с собакой'],\n",
    "                          'день': [],\n",
    "                          'вечер': ['погулять с собакой']\n",
    "                                      },\n",
    "        'пятница': {\n",
    "                          'утро': ['заехать в шиномонтаж', 'помыть машину'],\n",
    "                          'день': [],\n",
    "                          'вечер': ['поход в театр',  'ужин в кафе']\n",
    "                                      },\n",
    "        'суббота': {\n",
    "                          'утро': [],\n",
    "                          'день': [],\n",
    "                          'вечер': []\n",
    "                                      },\n",
    "        'воскресенье': {\n",
    "                          'утро': [],\n",
    "                          'день': [],\n",
    "                          'вечер': []\n",
    "                                      }}\n",
    "\n",
    "del diary['суббота']\n",
    "del diary['воскресенье']\n",
    "\n",
    "diary['(суббота, воскресенье)'] = 'посадить цветы на даче'\n",
    "\n",
    "diary"
   ]
  },
  {
   "cell_type": "code",
   "execution_count": 54,
   "metadata": {},
   "outputs": [
    {
     "data": {
      "text/plain": [
       "{'понедельник': {'утро': ['погулять с собакой'],\n",
       "  'день': [],\n",
       "  'вечер': ['погулять с собакой']},\n",
       " 'вторник': {'утро': ['поход к зубному', 'погулять с собакой'],\n",
       "  'день': [],\n",
       "  'вечер': ['погулять с собакой']},\n",
       " 'среда': {'утро': ['погулять с собакой'],\n",
       "  'день': [],\n",
       "  'вечер': ['погулять с собакой']},\n",
       " 'четверг': {'утро': ['погулять с собакой'],\n",
       "  'день': [],\n",
       "  'вечер': ['погулять с собакой']},\n",
       " 'пятница': {'утро': ['заехать в шиномонтаж', 'помыть машину'],\n",
       "  'день': [],\n",
       "  'вечер': ['поход в театр', 'ужин в кафе']},\n",
       " 'суббота': {'утро': [], 'день': [], 'вечер': []},\n",
       " 'воскресенье': {'утро': [], 'день': [], 'вечер': []}}"
      ]
     },
     "execution_count": 54,
     "metadata": {},
     "output_type": "execute_result"
    }
   ],
   "source": [
    "diary = {'понедельник': {\n",
    "                          'утро': ['погулять с собакой'],\n",
    "                          'день': [],\n",
    "                          'вечер': ['погулять с собакой']\n",
    "                                      },\n",
    "        'вторник': {\n",
    "                          'утро': ['погулять с собакой'],\n",
    "                          'день': [],\n",
    "                          'вечер': ['погулять с собакой']\n",
    "                                      },\n",
    "        'среда': {\n",
    "                          'утро': ['погулять с собакой'],\n",
    "                          'день': [],\n",
    "                          'вечер': ['погулять с собакой']\n",
    "                                      },\n",
    "        'четверг': {\n",
    "                          'утро': ['погулять с собакой'],\n",
    "                          'день': [],\n",
    "                          'вечер': ['погулять с собакой']\n",
    "                                      },\n",
    "        'пятница': {\n",
    "                          'утро': ['заехать в шиномонтаж', 'помыть машину'],\n",
    "                          'день': [],\n",
    "                          'вечер': ['поход в театр',  'ужин в кафе']\n",
    "                                      },\n",
    "        'суббота': {\n",
    "                          'утро': [],\n",
    "                          'день': [],\n",
    "                          'вечер': []\n",
    "                                      },\n",
    "        'воскресенье': {\n",
    "                          'утро': [],\n",
    "                          'день': [],\n",
    "                          'вечер': []\n",
    "                                      }}\n",
    "\n",
    "\n",
    "diary['вторник']['утро'][] = 'поход к зубному'\n",
    "diary"
   ]
  },
  {
   "cell_type": "code",
   "execution_count": null,
   "metadata": {},
   "outputs": [],
   "source": []
  },
  {
   "cell_type": "code",
   "execution_count": null,
   "metadata": {},
   "outputs": [],
   "source": []
  }
 ],
 "metadata": {
  "kernelspec": {
   "display_name": "Python 3",
   "language": "python",
   "name": "python3"
  },
  "language_info": {
   "codemirror_mode": {
    "name": "ipython",
    "version": 3
   },
   "file_extension": ".py",
   "mimetype": "text/x-python",
   "name": "python",
   "nbconvert_exporter": "python",
   "pygments_lexer": "ipython3",
   "version": "3.7.6"
  }
 },
 "nbformat": 4,
 "nbformat_minor": 4
}
