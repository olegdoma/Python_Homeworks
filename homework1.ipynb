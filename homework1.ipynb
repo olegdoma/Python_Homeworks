{
 "cells": [
  {
   "cell_type": "code",
   "execution_count": 31,
   "metadata": {},
   "outputs": [
    {
     "name": "stdout",
     "output_type": "stream",
     "text": [
      "1377\n",
      "3.9889840465642745\n",
      "-0.6356744903915641\n",
      "1.3762255133518482\n",
      "-0.9999999999999999\n",
      "0.2142627651440674\n"
     ]
    }
   ],
   "source": [
    "from math import *\n",
    "print(9**2 + 6**4)\n",
    "print(log(54))\n",
    "print(sqrt(8) - sqrt(12))\n",
    "print(sin(45) + cos(45))\n",
    "print(sin(pi) + cos(pi))\n",
    "print(sin(degrees(45)) + cos(degrees(45)))"
   ]
  },
  {
   "cell_type": "code",
   "execution_count": 7,
   "metadata": {},
   "outputs": [
    {
     "name": "stdout",
     "output_type": "stream",
     "text": [
      "Введите Ваш размер обуви: 38\n",
      "Ваш размер скальной обуви: 36.0\n"
     ]
    }
   ],
   "source": [
    "size = float(input(\"Введите Ваш размер обуви: \"))\n",
    "print(\"Ваш размер скальной обуви:\", size - 2)\n"
   ]
  },
  {
   "cell_type": "code",
   "execution_count": 8,
   "metadata": {},
   "outputs": [
    {
     "name": "stdout",
     "output_type": "stream",
     "text": [
      "Введите баллы за первую часть:5\n",
      "Введите баллы за вторую часть:4\n",
      "Введите баллы за третью часть:6\n",
      "Итоговый балл:  15\n"
     ]
    }
   ],
   "source": [
    "ball1 = int(input(\"Введите баллы за первую часть:\"))\n",
    "ball2 = int(input(\"Введите баллы за вторую часть:\"))\n",
    "ball3 = int(input(\"Введите баллы за третью часть:\"))\n",
    "print(\"Итоговый балл: \", ball1 + ball2 + ball3)"
   ]
  },
  {
   "cell_type": "code",
   "execution_count": 12,
   "metadata": {},
   "outputs": [
    {
     "name": "stdout",
     "output_type": "stream",
     "text": [
      "50\n",
      "Ваша заработная плата  50 тысяч рублей\n"
     ]
    }
   ],
   "source": [
    "salary = 50000\n",
    "salary_th = int(salary/1000)\n",
    "print(salary_th)\n",
    "print(\"Ваша заработная плата \", salary_th, \"тысяч рублей\")"
   ]
  },
  {
   "cell_type": "code",
   "execution_count": 15,
   "metadata": {},
   "outputs": [
    {
     "name": "stdout",
     "output_type": "stream",
     "text": [
      "Введите сумму для перевода:1000\n",
      "Сумма перевода с учетом комисии банка 5%: 1050.0\n"
     ]
    }
   ],
   "source": [
    "summa = int(input(\"Введите сумму для перевода:\"))\n",
    "print(\"Сумма перевода с учетом комисии банка 5%:\", summa * 1.05)"
   ]
  },
  {
   "cell_type": "code",
   "execution_count": 30,
   "metadata": {},
   "outputs": [
    {
     "name": "stdout",
     "output_type": "stream",
     "text": [
      "Первая цифра:5\n",
      "Вторая цифра:6\n",
      "Третья цифра:3\n",
      "Четвертая цифра:0\n",
      "5630\n"
     ]
    }
   ],
   "source": [
    "num1 = input(\"Первая цифра:\")\n",
    "num2 = input(\"Вторая цифра:\")\n",
    "num3 = input(\"Третья цифра:\")\n",
    "num4 = input(\"Четвертая цифра:\")\n",
    "summ = num1 + num2 + num3 + num4\n",
    "int_summ = int(summ)\n",
    "print(int_summ)"
   ]
  },
  {
   "cell_type": "code",
   "execution_count": 26,
   "metadata": {},
   "outputs": [
    {
     "name": "stdout",
     "output_type": "stream",
     "text": [
      "n=7\n",
      "Следующее четное число: 8\n",
      "n=8\n",
      "Следующее четное число: 10\n"
     ]
    }
   ],
   "source": [
    "n = int(input(\"n=\"))\n",
    "a = 2 - n%2\n",
    "print(\"Следующее четное число:\", n + a)\n",
    "n = int(input(\"n=\"))\n",
    "a = 2 - n%2\n",
    "print(\"Следующее четное число:\", n + a)"
   ]
  },
  {
   "cell_type": "code",
   "execution_count": null,
   "metadata": {},
   "outputs": [],
   "source": []
  }
 ],
 "metadata": {
  "kernelspec": {
   "display_name": "Python 3",
   "language": "python",
   "name": "python3"
  },
  "language_info": {
   "codemirror_mode": {
    "name": "ipython",
    "version": 3
   },
   "file_extension": ".py",
   "mimetype": "text/x-python",
   "name": "python",
   "nbconvert_exporter": "python",
   "pygments_lexer": "ipython3",
   "version": "3.7.6"
  }
 },
 "nbformat": 4,
 "nbformat_minor": 4
}
