{
 "cells": [
  {
   "cell_type": "code",
   "execution_count": 17,
   "metadata": {},
   "outputs": [
    {
     "name": "stdout",
     "output_type": "stream",
     "text": [
      "['яблоки', 'молоко', 'хлеб']\n",
      "['груши', 'йогурт', 'мясо']\n",
      "['сыр', 'колбаса', 'картошка']\n"
     ]
    }
   ],
   "source": [
    "def to_buy(*new_items, shopping_list=None):\n",
    "    if shopping_list is None:\n",
    "        shopping_list = []\n",
    "        for i in new_items:\n",
    "            shopping_list.append(i)\n",
    "    return shopping_list\n",
    "\n",
    "\n",
    "monday = to_buy('яблоки', 'молоко', 'хлеб')\n",
    "print(monday)\n",
    "\n",
    "tuesday = to_buy('груши', 'йогурт', 'мясо')\n",
    "print(tuesday)\n",
    "\n",
    "wednesday = to_buy('сыр', 'колбаса', 'картошка')\n",
    "print(wednesday)"
   ]
  },
  {
   "cell_type": "markdown",
   "metadata": {},
   "source": [
    "Передаем не None (wednesday = to_buy('сыр', 'колбаса', 'картошка')) и происходит создание нового списка ['сыр', 'колбаса', 'картошка']"
   ]
  },
  {
   "cell_type": "code",
   "execution_count": null,
   "metadata": {},
   "outputs": [],
   "source": []
  }
 ],
 "metadata": {
  "kernelspec": {
   "display_name": "Python 3",
   "language": "python",
   "name": "python3"
  },
  "language_info": {
   "codemirror_mode": {
    "name": "ipython",
    "version": 3
   },
   "file_extension": ".py",
   "mimetype": "text/x-python",
   "name": "python",
   "nbconvert_exporter": "python",
   "pygments_lexer": "ipython3",
   "version": "3.7.6"
  }
 },
 "nbformat": 4,
 "nbformat_minor": 4
}
