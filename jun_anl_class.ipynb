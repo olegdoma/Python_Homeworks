{
 "cells": [
  {
   "cell_type": "markdown",
   "metadata": {
    "colab_type": "text",
    "id": "RbR5OTe50Za4"
   },
   "source": [
    "# Классы\n",
    "## Домашнее задание"
   ]
  },
  {
   "cell_type": "markdown",
   "metadata": {
    "colab_type": "text",
    "id": "Xh_DBCdu0Za5"
   },
   "source": [
    "### Вопросы по лекциям\n",
    "\n",
    "#### 1.\n",
    "\n",
    "Напишите название функции, которая является конструктором класса."
   ]
  },
  {
   "cell_type": "markdown",
   "metadata": {
    "colab_type": "text",
    "id": "8-Tj4AMg0Za6"
   },
   "source": [
    "**Ответ:** \"__init__\"\n"
   ]
  },
  {
   "cell_type": "markdown",
   "metadata": {
    "colab_type": "text",
    "id": "lf14yx330Za7"
   },
   "source": [
    "#### 2.\n",
    "\n",
    "На что указывает переменная `self`?"
   ]
  },
  {
   "cell_type": "markdown",
   "metadata": {
    "colab_type": "text",
    "id": "wI-0FWlF0Za8"
   },
   "source": [
    "**Ответ:** указывает на сам, только что созданный, объект"
   ]
  },
  {
   "cell_type": "markdown",
   "metadata": {
    "colab_type": "text",
    "id": "j_8_O_nl0Za8"
   },
   "source": [
    "#### 3.\n",
    "С помощью какой функции можно проверить, что некая строка является именем одного из атрибутов объекта?"
   ]
  },
  {
   "cell_type": "markdown",
   "metadata": {
    "colab_type": "text",
    "id": "5h8ASTrV0Za9"
   },
   "source": [
    "**Ответ:** hasatrr"
   ]
  },
  {
   "cell_type": "markdown",
   "metadata": {
    "colab_type": "text",
    "id": "G104VWgj0Za-"
   },
   "source": [
    "#### 4.\n",
    "Когда вызывается метод `__del__`? (относительно события удаления объекта)"
   ]
  },
  {
   "cell_type": "markdown",
   "metadata": {
    "colab_type": "text",
    "id": "Ukzoyxkn0Za-"
   },
   "source": [
    "**Ответ:** вызывается тогда, когда объект перестает использоваться"
   ]
  },
  {
   "cell_type": "markdown",
   "metadata": {
    "colab_type": "text",
    "id": "MkF-HyBM0ZbA"
   },
   "source": [
    "#### 5.\n",
    "Верно ли, что атрибут класса перекрывает атрибут объекта?"
   ]
  },
  {
   "cell_type": "markdown",
   "metadata": {
    "colab_type": "text",
    "id": "o7B52kVt0ZbC"
   },
   "source": [
    "**Ответ:** Нет"
   ]
  },
  {
   "cell_type": "markdown",
   "metadata": {
    "colab_type": "text",
    "id": "kSwZWV2B0ZbC"
   },
   "source": [
    "#### 6.\n",
    "Можно ли атрибуты базового класса вызывать в дочернем классе? Если да, то напишите, нет ли исклчений?"
   ]
  },
  {
   "cell_type": "markdown",
   "metadata": {
    "colab_type": "text",
    "id": "6i74Koih0ZbE"
   },
   "source": [
    "**Ответ:**Можно, если в дочернем классе атрибут не переопределен"
   ]
  },
  {
   "cell_type": "markdown",
   "metadata": {
    "colab_type": "text",
    "id": "tl1St2O20ZbE"
   },
   "source": [
    "#### 7.\n",
    "Объясните своими словами для чего нужен метод `super`."
   ]
  },
  {
   "cell_type": "markdown",
   "metadata": {
    "colab_type": "text",
    "id": "rg3u1PoY0ZbF"
   },
   "source": [
    "**Ответ:** Метод, позволяющий вызвать метод из базового класса"
   ]
  },
  {
   "cell_type": "markdown",
   "metadata": {
    "colab_type": "text",
    "id": "5AiJn8ut0ZbG"
   },
   "source": [
    "### Практика\n",
    "\n",
    "1. Напишите класс `Fraction` для работы с дробями. Пусть дробь в нашем классе предстает в виде `числитель/знаменатель`. Дробное число должно создаваться по запросу `Fraction(a, b)`, где `a` – это числитель, а `b` – знаменатель дроби. \n",
    "2. Добавьте возможность сложения (сложения через оператор сложения) для дроби. Предполагается, что операция сложения может проводиться как только между дробями, так и между дробью и целым числом. Результат операции должен быть представлен в виде дроби.\n",
    "3. Добавьте возможность взятия разности (вычитания через оператор вычитания) для дробей. Предполагается, что операция вычитания может проводиться как только для двух дробей, так и для дроби и целого числа. Результат операции должен быть представлен в виде дроби.\n",
    "4. Добавьте возможность умножения (умножения через оператор умножения) для дробей. Предполагается, что операция умножения может проводиться как только для двух дробей, так и для дроби и целого числа. Результат операции должен быть представлен в виде дроби.\n",
    "5. Добавьте возможность приведения дроби к целому числу через стандартную функцию `int()`.\n",
    "6. Добавьте возможность приведения дроби к числу с плавающей точкой через стандартную функцию `float()`.\n",
    "7. Создайте дочерний класс `OperationsOnFraction` и добавьте туда собственные методы `getint` и `getfloat`, которые будут возвращать целую часть дроби и представление дроби в виде числа с плавающей точкой соответственно. \n",
    " "
   ]
  },
  {
   "cell_type": "code",
   "execution_count": 1,
   "metadata": {
    "colab": {},
    "colab_type": "code",
    "id": "ru3BJ52J0ZbG"
   },
   "outputs": [
    {
     "name": "stdout",
     "output_type": "stream",
     "text": [
      "11/4\n",
      "29/12\n",
      "3/4\n",
      "13/12\n",
      "14/12\n",
      "21/4\n"
     ]
    }
   ],
   "source": [
    "class Fraction:\n",
    "    def __init__(self, a, b):\n",
    "        self.a = a\n",
    "        self.b = b\n",
    "\n",
    "    def __str__(self):\n",
    "        return '{}/{}'.format(self.a, self.b)\n",
    "\n",
    "    def __add__(self, other):\n",
    "        if isinstance(other, int):\n",
    "            # return '{}(цел.){}'.format(other, Fraction(self.a, self.b))\n",
    "            return Fraction((self.a + (other * self.b)), self.b)\n",
    "\n",
    "        # elif  chislitel = (self.a * other.b) + (other.a * self.b)\n",
    "        #       znamenatel = self.b * other.b\n",
    "        # chislitel % znamenatel == 0:\n",
    "        #     return chislitel / znamenatel\n",
    "        else:\n",
    "            return '{}'.format(Fraction((self.a * other.b) + (other.a * self.b), self.b * other.b))\n",
    "\n",
    "    def __sub__(self, other):\n",
    "        if isinstance(other, int):\n",
    "            # return '{}(цел.){}'.format(other, Fraction(self.a, self.b))\n",
    "            return Fraction((self.a - (other * self.b)), self.b)\n",
    "\n",
    "        chislitel = (self.a * other.b) - (other.a * self.b)\n",
    "        znamenatel = self.b * other.b\n",
    "        if ((self.a * other.b) - (other.a * self.b)) % (self.b * other.b) == 0:\n",
    "            return int(((self.a * other.b) - (other.a * self.b)) / (self.b * other.b))\n",
    "        elif znamenatel % chislitel <= 0:\n",
    "            return '-{}'.format(Fraction(int(chislitel / chislitel), abs(int(znamenatel / chislitel))))\n",
    "        else:\n",
    "            return '{}'.format(Fraction(chislitel, znamenatel))\n",
    "\n",
    "    def __mul__(self, other):\n",
    "        if isinstance(other, int):\n",
    "            # return '{}(цел.){}'.format(other, Fraction(self.a, self.b))\n",
    "            return Fraction((self.a * other), self.b)\n",
    "\n",
    "        chislitel = self.a * other.a\n",
    "        znamenatel = self.b * other.b\n",
    "\n",
    "        if chislitel % znamenatel == 0:\n",
    "            return chislitel / znamenatel\n",
    "        else:\n",
    "            return '{}'.format(Fraction(chislitel, znamenatel))\n",
    "\n",
    "    def getint(self):\n",
    "        return int(self.a / self.b)\n",
    "\n",
    "    def getfloat(self):\n",
    "        return float(self.a / self.b)\n",
    "\n",
    "\n",
    "class OperationsOnFraction(Fraction):\n",
    "    def getint(self):\n",
    "        return int(self.a / self.b)\n",
    "\n",
    "    def getfloat(self):\n",
    "        return float(self.a / self.b)\n",
    "\n",
    "\n",
    "print(Fraction(7, 4) + 1)\n",
    "print(Fraction(7, 4) + Fraction(2, 3))\n",
    "# print(Fraction(7, 4) + Fraction(2, 3) + Fraction(4, 5))\n",
    "print(Fraction(7, 4) - 1)\n",
    "print(Fraction(7, 4) - Fraction(2, 3))\n",
    "print(Fraction(7, 4) * Fraction(2, 3))\n",
    "print(Fraction(7, 4) * 3)\n",
    "# fr = Fraction(8, 5)\n",
    "# print(fr.getint())\n",
    "# print(fr.getfloat())\n",
    "# fr2 = OperationsOnFraction(7, 4)\n",
    "# print(fr2.getint())\n",
    "# print(fr2.getfloat())\n"
   ]
  },
  {
   "cell_type": "code",
   "execution_count": null,
   "metadata": {},
   "outputs": [],
   "source": []
  }
 ],
 "metadata": {
  "colab": {
   "collapsed_sections": [],
   "name": "jun_anl_class.ipynb",
   "provenance": []
  },
  "kernelspec": {
   "display_name": "Python 3",
   "language": "python",
   "name": "python3"
  },
  "language_info": {
   "codemirror_mode": {
    "name": "ipython",
    "version": 3
   },
   "file_extension": ".py",
   "mimetype": "text/x-python",
   "name": "python",
   "nbconvert_exporter": "python",
   "pygments_lexer": "ipython3",
   "version": "3.7.6"
  }
 },
 "nbformat": 4,
 "nbformat_minor": 1
}
